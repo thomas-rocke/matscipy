{
 "cells": [
  {
   "cell_type": "code",
   "execution_count": 1,
   "metadata": {
    "collapsed": false
   },
   "outputs": [
    {
     "name": "stdout",
     "output_type": "stream",
     "text": [
      "Populating the interactive namespace from numpy and matplotlib\n"
     ]
    }
   ],
   "source": [
    "%pylab inline\n",
    "import numpy as np\n",
    "from matscipy.neighbours import neighbour_list\n",
    "rdf_cutoff = 10.0\n",
    "rdf_nbins = 100"
   ]
  },
  {
   "cell_type": "code",
   "execution_count": 2,
   "metadata": {
    "collapsed": true
   },
   "outputs": [],
   "source": [
    "import ase.io as io\n",
    "a = io.read('aC.cfg')"
   ]
  },
  {
   "cell_type": "code",
   "execution_count": 3,
   "metadata": {
    "collapsed": false
   },
   "outputs": [],
   "source": [
    "# Compute neighbor list and histogram of distances\n",
    "r = neighbour_list('d', a, cutoff=rdf_cutoff)\n",
    "rdf, bin_edges = np.histogram(r, bins=rdf_nbins, range=(0, rdf_cutoff))\n",
    "\n",
    "# Normalize by bin volume and total number of atoms\n",
    "rdf = rdf / (len(a) * 4*pi/3 * (bin_edges[1:]**3-bin_edges[:-1]**3))\n",
    "\n",
    "# Normalize by density\n",
    "rdf /= len(a)/a.get_volume()\n",
    "bin_centers = (bin_edges[1:]+bin_edges[:-1])/2"
   ]
  },
  {
   "cell_type": "code",
   "execution_count": 4,
   "metadata": {
    "collapsed": false
   },
   "outputs": [
    {
     "data": {
      "text/plain": [
       "[<matplotlib.lines.Line2D at 0x6fff5b60198>]"
      ]
     },
     "execution_count": 4,
     "metadata": {},
     "output_type": "execute_result"
    },
    {
     "data": {
      "image/png": "[encoded data removed]",
      "text/plain": [
       "<matplotlib.figure.Figure at 0x6fffc705f28>"
      ]
     },
     "metadata": {},
     "output_type": "display_data"
    }
   ],
   "source": [
    "plot(bin_centers, rdf, 'x-')"
   ]
  }
 ],
 "metadata": {
  "kernelspec": {
   "display_name": "Python 3",
   "language": "python",
   "name": "python3"
  },
  "language_info": {
   "codemirror_mode": {
    "name": "ipython",
    "version": 3
   },
   "file_extension": ".py",
   "mimetype": "text/x-python",
   "name": "python",
   "nbconvert_exporter": "python",
   "pygments_lexer": "ipython3",
   "version": "3.4.3"
  }
 },
 "nbformat": 4,
 "nbformat_minor": 0
}
