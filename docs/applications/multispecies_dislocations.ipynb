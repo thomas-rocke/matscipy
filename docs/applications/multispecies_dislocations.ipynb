{
 "cells": [
  {
   "cell_type": "markdown",
   "metadata": {},
   "source": [
    "# Multi-species Dislocation Systems\n",
    "Although much of the dislocation documentation uses single-species systems as case studies, the dislocation classes in `matscipy.dislocation` can also be applied to systems which have much more chemical complexity. However, the following restrictions apply:\n",
    "1. The desired system can be expressed in a cubic lattice\n",
    "2. The desired system shares on-lattice geometry with an existing \"base\" crystal structure\n",
    "\n",
    "As an example, let's take Zincblende InP and compare with a diamond lattice:"
   ]
  },
  {
   "cell_type": "code",
   "execution_count": 1,
   "metadata": {},
   "outputs": [
    {
     "data": {
      "application/vnd.jupyter.widget-view+json": {
       "model_id": "6cc861df79b54fbf909fa969614e99ec",
       "version_major": 2,
       "version_minor": 0
      },
      "text/plain": []
     },
     "metadata": {},
     "output_type": "display_data"
    },
    {
     "name": "stdout",
     "output_type": "stream",
     "text": [
      "InP Fractional Coordinates\n",
      "[[0.   0.   0.  ]\n",
      " [0.5  0.5  0.  ]\n",
      " [0.25 0.25 0.25]\n",
      " [0.75 0.75 0.25]\n",
      " [0.5  0.   0.5 ]\n",
      " [0.   0.5  0.5 ]\n",
      " [0.75 0.25 0.75]\n",
      " [0.25 0.75 0.75]]\n",
      "\n",
      "Diamond Fractional Coordinates\n",
      "[[0.   0.   0.  ]\n",
      " [0.5  0.5  0.  ]\n",
      " [0.25 0.25 0.25]\n",
      " [0.75 0.75 0.25]\n",
      " [0.5  0.   0.5 ]\n",
      " [0.   0.5  0.5 ]\n",
      " [0.75 0.25 0.75]\n",
      " [0.25 0.75 0.75]]\n"
     ]
    },
    {
     "data": {
      "application/vnd.jupyter.widget-view+json": {
       "model_id": "bc75df5c1d5b48bd8dd8dd3930e32c46",
       "version_major": 2,
       "version_minor": 0
      },
      "text/plain": [
       "NGLWidget()"
      ]
     },
     "metadata": {},
     "output_type": "display_data"
    }
   ],
   "source": [
    "import nglview # this import is necessary for rendering of the 3D view\n",
    "import numpy as np\n",
    "from ase.build import bulk\n",
    "from ase.lattice.cubic import Diamond\n",
    "from visualisation import interactive_view, show_dislocation\n",
    "\n",
    "# Data from https://pubs.acs.org/doi/epdf/10.1021/acs.jpca.0c02450 DFT values\n",
    "alat = 5.84\n",
    "C11 = 99.3\n",
    "C12 = 55.4\n",
    "C44 = 45.0\n",
    "\n",
    "InP = bulk(\"InP\", crystalstructure=\"zincblende\", cubic=True, a=alat)\n",
    "\n",
    "diamond = Diamond(\"C\", latticeconstant=alat)\n",
    "\n",
    "inp_pos = InP.get_scaled_positions()\n",
    "dia_pos = diamond.get_scaled_positions()\n",
    "\n",
    "# Sort the coords, as bulk uses a different atom order\n",
    "inp_idxs = np.lexsort((inp_pos[:, 0], inp_pos[:, 1], inp_pos[:, 2]))\n",
    "dia_idxs = np.lexsort((dia_pos[:, 0], dia_pos[:, 1], dia_pos[:, 2]))\n",
    "print(\"InP Fractional Coordinates\")\n",
    "print(inp_pos[inp_idxs, :])\n",
    "print()\n",
    "print(\"Diamond Fractional Coordinates\")\n",
    "print(dia_pos[dia_idxs, :])\n",
    "\n",
    "interactive_view(InP, scale=0.4)"
   ]
  },
  {
   "cell_type": "markdown",
   "metadata": {},
   "source": [
    "We can see that the fractional coordinates of the Zincblende InP are the same as the Diamond structure we generated. We can therefore say that on-lattice Zincblende shares geometry with Diamond. The displacement field used to generate dislocation structures is agnostic to atomic chemistry, and so we can model Zincblende dislocations as if they were dislocations in a Diamond crystal with an identical lattice constant and elastic properties.\n",
    "\n",
    "To actually build a dislocation with this InP bulk, we can simply pass it as an argument in place of the lattice constant:"
   ]
  },
  {
   "cell_type": "code",
   "execution_count": 2,
   "metadata": {},
   "outputs": [
    {
     "data": {
      "application/vnd.jupyter.widget-view+json": {
       "model_id": "4bdc430bd82a4c8fbdc2e1fa48878f1c",
       "version_major": 2,
       "version_minor": 0
      },
      "text/plain": [
       "NGLWidget()"
      ]
     },
     "metadata": {},
     "output_type": "display_data"
    }
   ],
   "source": [
    "from matscipy.dislocation import DiamondGlide90degreePartial\n",
    "\n",
    "disloc = DiamondGlide90degreePartial(InP, C11, C12, C44)\n",
    "\n",
    "InP_bulk, InP_dislocation = disloc.build_cylinder(radius=3 * alat)\n",
    "\n",
    "show_dislocation(InP_dislocation, scale=0.2, \n",
    "                 diamond_structure=True, \n",
    "                 CNA_color=False, add_bonds=True)"
   ]
  },
  {
   "cell_type": "markdown",
   "metadata": {},
   "source": [
    "## Additional Dislocations in Multispecies Systems\n",
    "Dislocations in multispecies systems have additiional complexity over thos in single-species crystals, due to the breaking of symmetries caused by the added chemical complexity. For our Zincblende InP example, this means that we can have two different forms of some of our dislocations: $\\alpha$ (P-terminated), and $\\beta$ (In-terminated).\n",
    "\n",
    "$\\alpha$-$90^\\circ$ Partial Dislocation in InP:"
   ]
  },
  {
   "cell_type": "code",
   "execution_count": 8,
   "metadata": {},
   "outputs": [
    {
     "data": {
      "application/vnd.jupyter.widget-view+json": {
       "model_id": "f48a5c1daa2c49cfa7d319bd4bad5936",
       "version_major": 2,
       "version_minor": 0
      },
      "text/plain": [
       "NGLWidget()"
      ]
     },
     "metadata": {},
     "output_type": "display_data"
    }
   ],
   "source": [
    "# alpha-90 degree dislocation\n",
    "InP = bulk(\"InP\", crystalstructure=\"zincblende\", cubic=True, a=alat)\n",
    "symbols = np.array(InP.get_chemical_symbols())\n",
    "# Swap In <-> P to get other alpha dislocation\n",
    "new_symbols = symbols.copy()\n",
    "new_symbols[symbols == \"In\"] = \"P\"\n",
    "new_symbols[symbols == \"P\"] = \"In\"\n",
    "InP.set_chemical_symbols(new_symbols)\n",
    "disloc = DiamondGlide90degreePartial(InP, C11, C12, C44)\n",
    "\n",
    "InP_bulk, InP_dislocation = disloc.build_cylinder(radius=3 * alat)\n",
    "show_dislocation(InP_dislocation, scale=0.2, \n",
    "                 diamond_structure=True, d_name=\"alpha-90 degree partial\",\n",
    "                 CNA_color=False, add_bonds=True)"
   ]
  },
  {
   "cell_type": "markdown",
   "metadata": {},
   "source": [
    "$\\beta$-$90^\\circ$ Partial Dislocation in InP:"
   ]
  },
  {
   "cell_type": "code",
   "execution_count": 4,
   "metadata": {},
   "outputs": [
    {
     "data": {
      "application/vnd.jupyter.widget-view+json": {
       "model_id": "8cffe25a8ec94efb97e200090f799bd9",
       "version_major": 2,
       "version_minor": 0
      },
      "text/plain": [
       "NGLWidget()"
      ]
     },
     "metadata": {},
     "output_type": "display_data"
    }
   ],
   "source": [
    "InP = bulk(\"InP\", crystalstructure=\"zincblende\", cubic=True, a=alat)\n",
    "# beta dislocation is the one done by default, for the bulk built by ase.build.bulk\n",
    "disloc = DiamondGlide90degreePartial(InP, C11, C12, C44)\n",
    "\n",
    "InP_bulk, InP_dislocation = disloc.build_cylinder(radius=3 * alat)\n",
    "show_dislocation(InP_dislocation, scale=0.2, \n",
    "                 diamond_structure=True,\n",
    "                 CNA_color=False, add_bonds=True)"
   ]
  },
  {
   "cell_type": "markdown",
   "metadata": {},
   "source": [
    "## Dislocations in Disordered Systems\n",
    "Generating dislocation structures for systems which have some chemical disorder is also possible, with some caveats:\n",
    "1. The generation routines will only work reliably when given on-lattice bulk structures with cubic cells\n",
    "2. The generated structure is based on a periodic replication of the base unit_cell, thus won't have true disorder\n",
    "3. The displacement field applied to the bulk structure does not depend on atomic species - known lattice distortions caused by the disorder will not be captured\n",
    "4. The current code only allows $C_{11}$, $C_{12}$, and $C_{44}$ to be specified, so more complex elastic effects (E.G. $C_{11} \\neq C_{22}$) cannot currently be captured\n",
    "\n",
    "With these in mind, a recommended workflow would be to start by generating the dislocation system for an ordered system, but using the elastic constants of the disordered system. From there, the disorder can be applied by simply changing the chemcical symbols of the atoms to match the target composition.\n",
    "\n",
    "To show a worked example of this, consider the alloy $\\text{In}_{0.5} \\text{Ga}_{0.5} \\text{As}$. This should form in a Zincblende structure, where the In sites from the previous InP bulk are now 50% occupied by Ga, and all P sites are now In.\n",
    "\n",
    "In order to model this, we can generate a dislocation for GaAs (which is very similar to the InP example above), but using the lattice constant and elastic properties of $\\text{In}_{0.5} \\text{Ga}_{0.5} \\text{As}$.\n",
    "\n",
    "NOTE: Whilst disordered systems like this $\\text{In}_{0.5} \\text{Ga}_{0.5} \\text{As}$ example should have off-lattice distortions in the bulk state, it is heavily recommended that the dislocation structures are generated using an on-lattice crystal. This is because the off-lattice structure will interact differently with the continuum displacement field, which could lead to overlapping/extremely close atoms, or generally incorrect core structures. The off-lattice distortions should ideally be found by relaxing the dislocation structure."
   ]
  },
  {
   "cell_type": "code",
   "execution_count": 5,
   "metadata": {},
   "outputs": [
    {
     "data": {
      "application/vnd.jupyter.widget-view+json": {
       "model_id": "42201125b1af48f2ba6310146f3aa96e",
       "version_major": 2,
       "version_minor": 0
      },
      "text/plain": [
       "NGLWidget()"
      ]
     },
     "metadata": {},
     "output_type": "display_data"
    }
   ],
   "source": [
    "from ase.build import bulk\n",
    "from matscipy.dislocation import DiamondGlide90degreePartial\n",
    "\n",
    "alat = 5.87 # Rough value from https://www.ioffe.ru/SVA/NSM/Semicond/GaInAs/mechanic.html\n",
    "# Data from https://doi.org/10.1080/08927022.2011.602975\n",
    "C11 = 120.31\n",
    "C12 = 55.87\n",
    "C44 = 58.26\n",
    "\n",
    "GaAs = bulk(\"GaAs\", crystalstructure=\"zincblende\", cubic=True, a=alat)\n",
    "\n",
    "\n",
    "disloc = DiamondGlide90degreePartial(GaAs, C11, C12, C44)\n",
    "\n",
    "GaAs_bulk, GaAs_dislocation = disloc.build_cylinder(radius=3 * alat)\n",
    "\n",
    "show_dislocation(GaAs_dislocation, scale=0.2, \n",
    "                 diamond_structure=True,\n",
    "                 CNA_color=False, add_bonds=True)"
   ]
  },
  {
   "cell_type": "markdown",
   "metadata": {},
   "source": [
    "From this GaAs structure, we then do Monte Carlo sampling to introduce 50% Indium to the structure:"
   ]
  },
  {
   "cell_type": "code",
   "execution_count": 6,
   "metadata": {},
   "outputs": [
    {
     "data": {
      "application/vnd.jupyter.widget-view+json": {
       "model_id": "5cde9dffd58942fc9020c1fda4d2186a",
       "version_major": 2,
       "version_minor": 0
      },
      "text/plain": [
       "NGLWidget()"
      ]
     },
     "metadata": {},
     "output_type": "display_data"
    }
   ],
   "source": [
    "import numpy as np\n",
    "\n",
    "np.random.seed(2)\n",
    "\n",
    "species = np.array(GaAs_bulk.get_chemical_symbols())\n",
    "\n",
    "Ga_idxs = np.argwhere(species == \"Ga\")[:, 0]\n",
    "\n",
    "# Choose half the idxs to be In\n",
    "In_idxs = np.random.choice(Ga_idxs, size=int(Ga_idxs.shape[0]/2), replace=False)\n",
    "\n",
    "# Introduce the chemical disorder in In-Ga sites\n",
    "species[In_idxs] = \"In\"\n",
    "\n",
    "InGaAs_bulk = GaAs_bulk.copy()\n",
    "InGaAs_bulk.set_chemical_symbols(species)\n",
    "\n",
    "InGaAs_dislocation = GaAs_dislocation.copy()\n",
    "InGaAs_dislocation.set_chemical_symbols(species)\n",
    "\n",
    "view = show_dislocation(InGaAs_dislocation, scale=0.2,\n",
    "                        diamond_structure=True,\n",
    "                        CNA_color=False, add_bonds=True)\n",
    "\n",
    "# In and Ga have almost the same default colors in nglview,\n",
    "# so we add another component with the In atoms in red to\n",
    "# see the chemical disorder better\n",
    "c = view.add_component(nglview.ASEStructure(InGaAs_dislocation[In_idxs]), \n",
    "                                            default_representaion=False)\n",
    "c.add_spacefill(radius=0.6, color=\"red\")\n",
    "view"
   ]
  }
 ],
 "metadata": {
  "kernelspec": {
   "display_name": "Python 3",
   "language": "python",
   "name": "python3"
  },
  "language_info": {
   "codemirror_mode": {
    "name": "ipython",
    "version": 3
   },
   "file_extension": ".py",
   "mimetype": "text/x-python",
   "name": "python",
   "nbconvert_exporter": "python",
   "pygments_lexer": "ipython3",
   "version": "3.9.15"
  }
 },
 "nbformat": 4,
 "nbformat_minor": 2
}
